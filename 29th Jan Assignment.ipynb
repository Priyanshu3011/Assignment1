{
 "cells": [
  {
   "cell_type": "code",
   "execution_count": null,
   "id": "8d62c633-0ff6-4373-96fc-a97504cad79d",
   "metadata": {},
   "outputs": [],
   "source": [
    "                          29th Jan Assignment\n",
    "Q.1.Ans:-Guido van Rossum"
   ]
  },
  {
   "cell_type": "code",
   "execution_count": null,
   "id": "6e3d24fe-6e6b-4e75-b5b9-0893117cbef2",
   "metadata": {},
   "outputs": [],
   "source": [
    "Q.2.Ans:-Both Object-Oriented programming and structure programming."
   ]
  },
  {
   "cell_type": "code",
   "execution_count": null,
   "id": "51278ab3-b497-4c4b-a86a-d04f6b020fd9",
   "metadata": {},
   "outputs": [],
   "source": [
    "Q.3.Ans:-Yes"
   ]
  },
  {
   "cell_type": "code",
   "execution_count": null,
   "id": "0c9b3c75-7d00-42e3-b3bf-7f4bbbc2ac04",
   "metadata": {},
   "outputs": [],
   "source": [
    "Q.4.Ans:- .py"
   ]
  },
  {
   "cell_type": "code",
   "execution_count": null,
   "id": "93f17987-bdb1-4ecb-a058-4cd65cd96b41",
   "metadata": {},
   "outputs": [],
   "source": [
    "Q.5.Ans:- Interpreted"
   ]
  },
  {
   "cell_type": "code",
   "execution_count": null,
   "id": "c6eee036-ab81-4777-a8c7-b757027b6359",
   "metadata": {},
   "outputs": [],
   "source": [
    "Q.6.Ans:-\n",
    "            l1 =[1,2,3,4,\"priyanshu\",\"shriwastav\",4.876,\"xyz\"]\n",
    "    \n",
    "    \n",
    "lint =[]\n",
    "lstr =[]\n",
    "\n",
    "for i in l1:\n",
    "    if type(i)==int or type(i)==float:\n",
    "        lint.append(i)\n",
    "    elif type(i)==str:\n",
    "        lstr.append(i)\n",
    "print(lint)\n",
    "print(lstr)\n",
    "\n",
    "\n",
    "    "
   ]
  },
  {
   "cell_type": "code",
   "execution_count": null,
   "id": "a6874a3e-e834-4f19-9ec0-89ee41a54f8a",
   "metadata": {},
   "outputs": [],
   "source": [
    "Q.7.Ans:- #\n",
    "          for example # this is a single line comment"
   ]
  },
  {
   "cell_type": "code",
   "execution_count": null,
   "id": "a306b6b3-a67b-49a2-9750-82980e3de2e2",
   "metadata": {},
   "outputs": [],
   "source": [
    "Q.8.Ans:- sys.version"
   ]
  },
  {
   "cell_type": "code",
   "execution_count": null,
   "id": "da952aa2-bb27-4aaa-9e59-63e930716006",
   "metadata": {},
   "outputs": [],
   "source": [
    "Q.9.Ans:-lambda"
   ]
  },
  {
   "cell_type": "code",
   "execution_count": null,
   "id": "b597a921-9d14-46d6-b816-8d3df3b806be",
   "metadata": {},
   "outputs": [],
   "source": [
    "Q.10.Ans:- Preferred installer program"
   ]
  },
  {
   "cell_type": "code",
   "execution_count": null,
   "id": "56fd567e-134c-42b9-8044-218defde42c3",
   "metadata": {},
   "outputs": [],
   "source": [
    "Q.11.Ans:- Few built - in functions in python are\n",
    "       \n",
    "print() function,type() function,input() function,pow() function,sorted() function ,max() function,len() function etc."
   ]
  },
  {
   "cell_type": "code",
   "execution_count": null,
   "id": "f91b1e6a-b7fb-4b6e-84b4-bd0acdfe8933",
   "metadata": {},
   "outputs": [],
   "source": [
    "Q.12.Ans:- 79 characters "
   ]
  },
  {
   "cell_type": "code",
   "execution_count": null,
   "id": "cf971e4f-6758-4fd9-a115-9b2da6d067af",
   "metadata": {},
   "outputs": [],
   "source": [
    "Q.13.Ans:-   \n",
    "        i. Easy to Read,Learn and Write\n",
    "        ii.Improved Productivity\n",
    "        iii. Interpreted language\n",
    "        iv. Free and Open-Source\n",
    "        v. Dynamically Typed"
   ]
  },
  {
   "cell_type": "code",
   "execution_count": null,
   "id": "9d02c84f-e65f-4cfe-bf21-ec111af96836",
   "metadata": {},
   "outputs": [],
   "source": [
    "Q.14.Ans:- Actully according to the Python memory management documentation, Python has a private heap that stores our\n",
    "           program's objects and data structures.Python memory manager takes care of the bulk of the memory management work\n",
    "           and allows us to concentrate on our code.\n",
    "        "
   ]
  },
  {
   "cell_type": "code",
   "execution_count": null,
   "id": "474d7a1e-e014-47d0-b5e3-736633fcc431",
   "metadata": {},
   "outputs": [],
   "source": [
    "Q.15.Ans:-\n",
    "\n",
    "step 1:- Install python from this link https://www.python.org/downloads/\n",
    "step 2:- Install it on your PC.\n",
    "step 3:- Look for the location when PYTHON has been installed on your PC using the following command on your\n",
    "         command prompt: cmd python.\n",
    "step 4:- Then go to advanced system settings and add new variables and name it as PYTHON_NAME and paste the copied path.\n",
    "step 5:- Then look for the path variable,select it's value and select edit\n",
    "step 6:- Add a semicolon towards the end of the value if it's not present and then type %PYTHON_HOME%"
   ]
  },
  {
   "cell_type": "code",
   "execution_count": null,
   "id": "ede84e33-ba8e-4e4b-bed7-34b2f246db47",
   "metadata": {},
   "outputs": [],
   "source": [
    "Q.16.Ans:- Yes,It is very important."
   ]
  }
 ],
 "metadata": {
  "kernelspec": {
   "display_name": "Python 3 (ipykernel)",
   "language": "python",
   "name": "python3"
  },
  "language_info": {
   "codemirror_mode": {
    "name": "ipython",
    "version": 3
   },
   "file_extension": ".py",
   "mimetype": "text/x-python",
   "name": "python",
   "nbconvert_exporter": "python",
   "pygments_lexer": "ipython3",
   "version": "3.10.8"
  }
 },
 "nbformat": 4,
 "nbformat_minor": 5
}
